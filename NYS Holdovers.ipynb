{
 "cells": [
  {
   "cell_type": "code",
   "execution_count": 1,
   "metadata": {},
   "outputs": [
    {
     "data": {
      "text/html": [
       "<script>jQuery(function() {if (jQuery(\"body.notebook_app\").length == 0) { jQuery(\".input_area\").toggle(); jQuery(\".prompt\").toggle();}});</script>"
      ]
     },
     "metadata": {},
     "output_type": "display_data"
    },
    {
     "data": {
      "text/html": [
       "<button onclick=\"jQuery('.input_area').toggle(); jQuery('.prompt').toggle();\">toggle code visibility</button>"
      ]
     },
     "metadata": {},
     "output_type": "display_data"
    }
   ],
   "source": [
    "import matplotlib.pyplot as plt\n",
    "import numpy as np\n",
    "%matplotlib inline\n",
    "import pandas as pd\n",
    "import csv\n",
    "import seaborn as sns\n",
    "import IPython.core.display as di\n",
    "\n",
    "# This line will hide code by default when the notebook is exported as HTML\n",
    "di.display_html('<script>jQuery(function() {if (jQuery(\"body.notebook_app\").length == 0) { jQuery(\".input_area\").toggle(); jQuery(\".prompt\").toggle();}});</script>', raw=True)\n",
    "\n",
    "# This line will add a button to toggle visibility of code blocks, for use with the HTML export version\n",
    "di.display_html('''<button onclick=\"jQuery('.input_area').toggle(); jQuery('.prompt').toggle();\">toggle code visibility</button>''', raw=True)"
   ]
  },
  {
   "cell_type": "markdown",
   "metadata": {},
   "source": [
    "**One-sentence takeaway: Kids who are heldover show a brief improvement in test scores, but this improvement usually only lasts about two years.**\n",
    "\n",
    "**In other words:** A struggling kid who is held over is likely be to a struggling kid next year as well, and will certainly be a struggling kid in three years. \n",
    "\n",
    "---"
   ]
  },
  {
   "cell_type": "code",
   "execution_count": 2,
   "metadata": {},
   "outputs": [
    {
     "ename": "NameError",
     "evalue": "name 'df_6' is not defined",
     "output_type": "error",
     "traceback": [
      "\u001b[0;31m---------------------------------------------------------------------------\u001b[0m",
      "\u001b[0;31mNameError\u001b[0m                                 Traceback (most recent call last)",
      "\u001b[0;32m<ipython-input-2-88550a4c9f21>\u001b[0m in \u001b[0;36m<module>\u001b[0;34m()\u001b[0m\n\u001b[1;32m      1\u001b[0m \u001b[0mdf_5\u001b[0m \u001b[0;34m=\u001b[0m \u001b[0mpd\u001b[0m\u001b[0;34m.\u001b[0m\u001b[0mread_csv\u001b[0m\u001b[0;34m(\u001b[0m\u001b[0;34m\"sns_g5_2014.csv\"\u001b[0m\u001b[0;34m)\u001b[0m\u001b[0;34m\u001b[0m\u001b[0m\n\u001b[0;32m----> 2\u001b[0;31m df_6_2 = df_6[\n\u001b[0m\u001b[1;32m      3\u001b[0m     (df_6['Year'].isin(['2015','2016','2017']))]\n\u001b[1;32m      4\u001b[0m df_5_2 = df_5[\n\u001b[1;32m      5\u001b[0m     (df_5['Group'].isin(['Holdover','All Students']))]\n",
      "\u001b[0;31mNameError\u001b[0m: name 'df_6' is not defined"
     ]
    }
   ],
   "source": [
    "df_5 = pd.read_csv(\"sns_g5_2014.csv\")\n",
    "df_6_2 = df_6[\n",
    "    (df_6['Year'].isin(['2015','2016','2017']))]\n",
    "df_5_2 = df_5[\n",
    "    (df_5['Group'].isin(['Holdover','All Students']))]"
   ]
  },
  {
   "cell_type": "markdown",
   "metadata": {},
   "source": [
    "**Student who repeated the 5th grade, compared to those who were promoted**\n",
    "---\n",
    "\n",
    "The graph below shows the NYS test scores of students who were held over in 5th grade in 2015 (red), compared with those who were logged as potential HOs but still promoted (blue). "
   ]
  },
  {
   "cell_type": "markdown",
   "metadata": {},
   "source": [
    "*The scores of the holdover cohort have been omitted for the second year they took 5th grade -- we know they will do well on that test, the real question is if their improvements are sustained in 6th and 7th grade.*"
   ]
  },
  {
   "cell_type": "code",
   "execution_count": null,
   "metadata": {},
   "outputs": [],
   "source": [
    "colors_potential = sns.xkcd_palette(['light red','cerulean','green'])\n",
    "df = pd.read_csv(\"sns_g5_2014.csv\")\n",
    "g = sns.factorplot(x='Grade', y='Score', \n",
    "               hue='Group', col='Subject', hue_order=['Holdover','Potential HO','All Students'],\n",
    "               kind = 'box', size=8, margin_titles=True, palette = colors_potential,\n",
    "               aspect=.7, data = df)\n",
    "\n",
    "axes = g.axes.flatten()\n",
    "axes[0].set_title(\"ELA\")\n",
    "axes[1].set_title(\"Math\")\n",
    "plt.subplots_adjust(top=.8)\n",
    "plt.ylim(225,430)\n",
    "sns.set_context(\"talk\")"
   ]
  },
  {
   "cell_type": "markdown",
   "metadata": {},
   "source": [
    "The graph above summarizes all of the HO data I looked at fairly well: One or two years after a holdover, holdover students seem to have measurably improved; three years after the repeated grade, it's hard to tell if HO kids have benefited from repeating the grade and whether or not their trend is positive. \n",
    "\n",
    "When the HO kids (red) move onto sixth grade, having repeated 5th, they outperform the potential HO kids (blue) who did not repeat the grade. By 7th grade the HO kids are doing only slightly better in Math, and slightly worse in ELA than the potentail HO kids. Unfortunately, we don't have data for 8th grade, but at best we would expect HO kids to be doing about as well as the potential HOs who were promoted, and at worse we would expect them to have fallen further behind.\n",
    "Since the HO students did worse on the fifth grade state test than the potential HO students, the fact that they are performing about equally by seventh grade could be considered progress. At the same time, it's a pretty meager improvement for having repeated an entire year. \n",
    "\n",
    "**Student who repeated the 5th grade, compared to those who were promoted**\n",
    "---\n",
    "The graph below shows the same data, with one dot representing the score of each student. There are 15 students in HO dataset, and 14 students in the potential HO dataset. This shows a major caveat with trying to analyze HOs at Success: there's not a lot of long-term data on HO students. We should take these charts seriously, but at the same time, we should be wary of drawing too firm of a conclusion from so few students."
   ]
  },
  {
   "cell_type": "code",
   "execution_count": null,
   "metadata": {},
   "outputs": [],
   "source": [
    "g = sns.factorplot(x='Grade', y='Score', \n",
    "               hue='Group', dodge=True, \n",
    "               col='Subject', hue_order=['Holdover','Potential HO','All Students'],\n",
    "               kind = 'swarm', size=8, margin_titles=True, palette = colors_potential,\n",
    "               aspect=.7, data = df)\n",
    "axes = g.axes.flatten()\n",
    "axes[0].set_title(\"ELA\")\n",
    "axes[1].set_title(\"Math\")\n",
    "plt.subplots_adjust(top=.8)\n",
    "plt.ylim(225,430)\n",
    "plt.show()"
   ]
  },
  {
   "cell_type": "markdown",
   "metadata": {},
   "source": [
    "**Students who repeated 6th grade, compared to the rest of their class**\n",
    "---\n",
    "The graph below shows a cohort of students who were held over in 6th grade, and the trend is largely the same as the 5th grade HOs. As expected, their test scores improve significantly in 2015, when they are taking 6th grade for a second time, (though they are still below the grade level median). When these students advance to 7th grade, their scores improve slightly in ELA, and decline slightly in math. By 8th grade, 3 years after their holdover, their scores decline in both subjects, and most kids are below the 25th percentile of their grade. \n",
    "\n",
    "Unfortunately, there wasn't a large enough group of potential HOs to measurably compare with this cohort."
   ]
  },
  {
   "cell_type": "code",
   "execution_count": null,
   "metadata": {},
   "outputs": [],
   "source": [
    "colors = sns.xkcd_palette(['light red','green'])\n",
    "df_6 = pd.read_csv(\"sns_g6_2014.csv\")\n",
    "g = sns.factorplot(x='Grade_Year', y='Score', \n",
    "               hue='Group', col='Subject', \n",
    "               kind = 'box', size=8,\n",
    "                palette = colors,\n",
    "               aspect=.7, data = df_6)\n",
    "axes = g.axes.flatten()\n",
    "axes[0].set_title(\"ELA\")\n",
    "axes[1].set_title(\"Math\")\n",
    "plt.subplots_adjust(top=.8)\n",
    "plt.ylim(250,420)\n",
    "g.fig.suptitle(\"Students who repeated 6th Grade, Compared\")\n",
    "sns.set_context(\"talk\")\n",
    "plt.show()"
   ]
  },
  {
   "cell_type": "markdown",
   "metadata": {},
   "source": [
    "Below is that exact same data, with one dot representing one student. "
   ]
  },
  {
   "cell_type": "code",
   "execution_count": null,
   "metadata": {},
   "outputs": [],
   "source": [
    "g = sns.factorplot(x='Grade_Year', y='Score', \n",
    "               hue='Group', col='Subject', \n",
    "               kind = 'swarm', size=8,\n",
    "               aspect=.7, dodge = True,\n",
    "               palette = colors, data = df_6)\n",
    "axes = g.axes.flatten()\n",
    "axes[0].set_title(\"ELA\")\n",
    "axes[1].set_title(\"Math\")\n",
    "plt.subplots_adjust(top=.8)\n",
    "plt.ylim(250,420)\n",
    "sns.set_context(\"talk\")\n",
    "plt.show()"
   ]
  },
  {
   "cell_type": "code",
   "execution_count": null,
   "metadata": {},
   "outputs": [],
   "source": []
  }
 ],
 "metadata": {
  "kernelspec": {
   "display_name": "Python 3",
   "language": "python",
   "name": "python3"
  },
  "language_info": {
   "codemirror_mode": {
    "name": "ipython",
    "version": 3
   },
   "file_extension": ".py",
   "mimetype": "text/x-python",
   "name": "python",
   "nbconvert_exporter": "python",
   "pygments_lexer": "ipython3",
   "version": "3.6.4"
  }
 },
 "nbformat": 4,
 "nbformat_minor": 2
}
